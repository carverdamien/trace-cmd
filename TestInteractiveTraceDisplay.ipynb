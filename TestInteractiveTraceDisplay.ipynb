{
 "cells": [
  {
   "cell_type": "code",
   "execution_count": null,
   "metadata": {},
   "outputs": [],
   "source": [
    "import TraceDisplay\n",
    "from TraceDisplay import BOKEH_RENDERER\n",
    "from IPython.display import HTML, display"
   ]
  },
  {
   "cell_type": "code",
   "execution_count": null,
   "metadata": {},
   "outputs": [],
   "source": [
    "image = ! find ${WALK_PATH:-.} -name '*.i.h5'\n",
    "data_path = image[0]\n",
    "html_path = '/dev/null'"
   ]
  },
  {
   "cell_type": "code",
   "execution_count": null,
   "metadata": {},
   "outputs": [],
   "source": [
    "image = TraceDisplay.Image()\n",
    "image.load(data_path)"
   ]
  },
  {
   "cell_type": "code",
   "execution_count": null,
   "metadata": {},
   "outputs": [],
   "source": [
    "bkr = TraceDisplay.BokehRenderer()\n",
    "bkr.show()"
   ]
  },
  {
   "cell_type": "code",
   "execution_count": null,
   "metadata": {},
   "outputs": [],
   "source": [
    "bkr.render(image)"
   ]
  },
  {
   "cell_type": "code",
   "execution_count": null,
   "metadata": {},
   "outputs": [],
   "source": [
    "# Create a snapshot before calling filter\n",
    "# bkr.image\n",
    "display(HTML(bkr.to_html()))\n",
    "display(image.get_filter()) # TODO: display(image.filter)\n",
    "display(image['/sched_switch'])"
   ]
  },
  {
   "cell_type": "code",
   "execution_count": null,
   "metadata": {},
   "outputs": [],
   "source": [
    "pid = image['/sched_process_exec'].iloc[0]['common_pid']\n",
    "display(pid)\n",
    "image.filter({\n",
    "    k:f\"common_pid == {pid}\"\n",
    "    for k in image\n",
    "})\n",
    "# TODO: rewrite update\n",
    "# image.filter.update({\n",
    "#     k:f\"common_pid == {pid}\"\n",
    "#     for k in image\n",
    "# })"
   ]
  },
  {
   "cell_type": "code",
   "execution_count": null,
   "metadata": {},
   "outputs": [],
   "source": [
    "# Simulate Button click\n",
    "bkr.update()\n",
    "# Create a snapshot after calling filter\n",
    "# bkr.image\n",
    "display(HTML(bkr.to_html()))\n",
    "display(image.get_filter()) # TODO: display(image.filter)\n",
    "display(image['/sched_switch'])"
   ]
  },
  {
   "cell_type": "code",
   "execution_count": null,
   "metadata": {},
   "outputs": [],
   "source": [
    "# TODO: Append custom categories\n",
    "#\n",
    "# image.category.append(\n",
    "#     label=f'pid == {pid}',\n",
    "#     color='#FF0000',\n",
    "#     query = {\n",
    "#         k:f\"common_pid == {pid}\"\n",
    "#         for k in image\n",
    "#     },\n",
    "# )\n",
    "#\n",
    "# image.category.append(\n",
    "#     label=f'pid != {pid}',\n",
    "#     color='#00FF00',\n",
    "#     query = {\n",
    "#         k:f\"common_pid != {pid}\"\n",
    "#         for k in image\n",
    "#     },\n",
    "# )\n",
    "#\n",
    "# image.filter.clear()\n",
    "# bkr.update()\n",
    "# display(HTML(bkr.to_html()))\n",
    "#"
   ]
  },
  {
   "cell_type": "code",
   "execution_count": null,
   "metadata": {},
   "outputs": [],
   "source": [
    "# TODO: Create custom shape\n",
    "#\n",
    "# image['custom'] = ???\n",
    "#\n",
    "# bkr.update()\n",
    "# display(HTML(bkr.to_html()))\n",
    "#"
   ]
  }
 ],
 "metadata": {
  "kernelspec": {
   "display_name": "Python 3",
   "language": "python",
   "name": "python3"
  },
  "language_info": {
   "codemirror_mode": {
    "name": "ipython",
    "version": 3
   },
   "file_extension": ".py",
   "mimetype": "text/x-python",
   "name": "python",
   "nbconvert_exporter": "python",
   "pygments_lexer": "ipython3",
   "version": "3.7.6"
  }
 },
 "nbformat": 4,
 "nbformat_minor": 2
}
