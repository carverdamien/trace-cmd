{
 "cells": [
  {
   "cell_type": "code",
   "execution_count": null,
   "metadata": {},
   "outputs": [],
   "source": [
    "import TraceDisplay\n",
    "from TraceDisplay import BOKEH_RENDERER\n",
    "from IPython.display import HTML, display\n",
    "import pandas as pd\n",
    "pd.set_option('max_colwidth', 999)"
   ]
  },
  {
   "cell_type": "code",
   "execution_count": null,
   "metadata": {},
   "outputs": [],
   "source": [
    "image = ! find ${WALK_PATH:-.} -name '*.i.h5'\n",
    "data_path = image[0]\n",
    "html_path = '/dev/null'"
   ]
  },
  {
   "cell_type": "code",
   "execution_count": null,
   "metadata": {},
   "outputs": [],
   "source": [
    "image = TraceDisplay.Image()\n",
    "image.load(data_path)"
   ]
  },
  {
   "cell_type": "code",
   "execution_count": null,
   "metadata": {},
   "outputs": [],
   "source": [
    "bkr = TraceDisplay.BokehRenderer()\n",
    "bkr.show()"
   ]
  },
  {
   "cell_type": "code",
   "execution_count": null,
   "metadata": {},
   "outputs": [],
   "source": [
    "bkr.render(image)"
   ]
  },
  {
   "cell_type": "code",
   "execution_count": null,
   "metadata": {},
   "outputs": [],
   "source": [
    "# Create a snapshot before calling filter\n",
    "# bkr.image\n",
    "display(HTML(bkr.to_html()))\n",
    "display(image.filter)\n",
    "display(image['/sched_switch'])"
   ]
  },
  {
   "cell_type": "code",
   "execution_count": null,
   "metadata": {},
   "outputs": [],
   "source": [
    "pid = image['/sched_process_exec'].iloc[0]['common_pid']\n",
    "display(pid)\n",
    "image.filter.update({\n",
    "    k:f\"common_pid == {pid}\"\n",
    "    for k in image\n",
    "})"
   ]
  },
  {
   "cell_type": "code",
   "execution_count": null,
   "metadata": {},
   "outputs": [],
   "source": [
    "# Simulate Button click\n",
    "bkr.update()\n",
    "# Create a snapshot after calling filter\n",
    "# bkr.image\n",
    "display(HTML(bkr.to_html()))\n",
    "display(image.filter)\n",
    "display(image['/sched_switch'])"
   ]
  },
  {
   "cell_type": "code",
   "execution_count": null,
   "metadata": {},
   "outputs": [],
   "source": [
    "# Append custom categories\n",
    "\n",
    "image.category.append(\n",
    "    label=f'pid == {pid}',\n",
    "    color='#FF0000',\n",
    "    query = {\n",
    "        k:f\"common_pid == {pid}\"\n",
    "        for k in image\n",
    "    },\n",
    ")\n",
    "\n",
    "image.category.append(\n",
    "    label=f'pid != {pid}',\n",
    "    color='#00FF00',\n",
    "    query = {\n",
    "        k:f\"common_pid != {pid}\"\n",
    "        for k in image\n",
    "    },\n",
    ")\n",
    "\n",
    "image.filter.clear()\n",
    "bkr.update()\n",
    "display(HTML(bkr.to_html()))\n",
    "image.category"
   ]
  },
  {
   "cell_type": "code",
   "execution_count": null,
   "metadata": {},
   "outputs": [],
   "source": [
    "# Create a custom shape\n",
    "# Example: migrations\n",
    "#\n",
    "import numpy as np\n",
    "display(image['/sched_migrate_task'])\n",
    "\n",
    "image['/migrations'] = pd.DataFrame({\n",
    "    'x0' : np.array(image['/sched_migrate_task'].index, dtype=float),\n",
    "    'x1' : np.array(image['/sched_migrate_task'].index, dtype=float),\n",
    "    'y0' : np.array(image['/sched_migrate_task']['orig_cpu'], dtype=float),\n",
    "    'y1' : np.array(image['/sched_migrate_task']['dest_cpu'], dtype=float),\n",
    "    'category' : np.zeros(len(image['/sched_migrate_task']), dtype=int),\n",
    "    'pid' : np.array(image['/sched_migrate_task']['pid'], dtype=int),\n",
    "})\n",
    "\n",
    "display(image['/migrations'])\n",
    "\n",
    "# Before drawing we need to set the shape and create some categories\n",
    "# Let's create per_pid categories with random colors\n",
    "image.shape['/migrations'] = 'LineShape' # Only shape available (we could draw points)\n",
    "import random\n",
    "r = lambda: random.randint(0,255)\n",
    "random_color = lambda : '#%02X%02X%02X' % (r(),r(),r())\n",
    "for pid in np.unique(image['/migrations']['pid']):\n",
    "    image.category.append(\n",
    "        label=f'/migrations pid=={pid}',\n",
    "        color=random_color(),\n",
    "        query={'/migrations':f'pid=={pid}'},\n",
    "    )\n",
    "\n",
    "# Cancel the two previous categories \n",
    "image.category[7].query = '{}'\n",
    "image.category[8].query = '{}'\n",
    "\n",
    "# Draw\n",
    "bkr.update()\n",
    "display(HTML(bkr.to_html()))\n",
    "display(image.category)"
   ]
  },
  {
   "cell_type": "code",
   "execution_count": null,
   "metadata": {},
   "outputs": [],
   "source": []
  }
 ],
 "metadata": {
  "kernelspec": {
   "display_name": "Python 3",
   "language": "python",
   "name": "python3"
  },
  "language_info": {
   "codemirror_mode": {
    "name": "ipython",
    "version": 3
   },
   "file_extension": ".py",
   "mimetype": "text/x-python",
   "name": "python",
   "nbconvert_exporter": "python",
   "pygments_lexer": "ipython3",
   "version": "3.7.6"
  }
 },
 "nbformat": 4,
 "nbformat_minor": 2
}
