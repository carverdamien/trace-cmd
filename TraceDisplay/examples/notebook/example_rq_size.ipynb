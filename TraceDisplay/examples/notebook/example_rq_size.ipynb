{
 "cells": [
  {
   "cell_type": "code",
   "execution_count": 1,
   "metadata": {},
   "outputs": [
    {
     "data": {
      "text/html": [
       "\n",
       "    <div class=\"bk-root\">\n",
       "        <a href=\"https://bokeh.org\" target=\"_blank\" class=\"bk-logo bk-logo-small bk-logo-notebook\"></a>\n",
       "        <span id=\"1001\">Loading BokehJS ...</span>\n",
       "    </div>"
      ]
     },
     "metadata": {},
     "output_type": "display_data"
    },
    {
     "data": {
      "application/javascript": [
       "\n",
       "(function(root) {\n",
       "  function now() {\n",
       "    return new Date();\n",
       "  }\n",
       "\n",
       "  var force = true;\n",
       "\n",
       "  if (typeof root._bokeh_onload_callbacks === \"undefined\" || force === true) {\n",
       "    root._bokeh_onload_callbacks = [];\n",
       "    root._bokeh_is_loading = undefined;\n",
       "  }\n",
       "\n",
       "  var JS_MIME_TYPE = 'application/javascript';\n",
       "  var HTML_MIME_TYPE = 'text/html';\n",
       "  var EXEC_MIME_TYPE = 'application/vnd.bokehjs_exec.v0+json';\n",
       "  var CLASS_NAME = 'output_bokeh rendered_html';\n",
       "\n",
       "  /**\n",
       "   * Render data to the DOM node\n",
       "   */\n",
       "  function render(props, node) {\n",
       "    var script = document.createElement(\"script\");\n",
       "    node.appendChild(script);\n",
       "  }\n",
       "\n",
       "  /**\n",
       "   * Handle when an output is cleared or removed\n",
       "   */\n",
       "  function handleClearOutput(event, handle) {\n",
       "    var cell = handle.cell;\n",
       "\n",
       "    var id = cell.output_area._bokeh_element_id;\n",
       "    var server_id = cell.output_area._bokeh_server_id;\n",
       "    // Clean up Bokeh references\n",
       "    if (id != null && id in Bokeh.index) {\n",
       "      Bokeh.index[id].model.document.clear();\n",
       "      delete Bokeh.index[id];\n",
       "    }\n",
       "\n",
       "    if (server_id !== undefined) {\n",
       "      // Clean up Bokeh references\n",
       "      var cmd = \"from bokeh.io.state import curstate; print(curstate().uuid_to_server['\" + server_id + \"'].get_sessions()[0].document.roots[0]._id)\";\n",
       "      cell.notebook.kernel.execute(cmd, {\n",
       "        iopub: {\n",
       "          output: function(msg) {\n",
       "            var id = msg.content.text.trim();\n",
       "            if (id in Bokeh.index) {\n",
       "              Bokeh.index[id].model.document.clear();\n",
       "              delete Bokeh.index[id];\n",
       "            }\n",
       "          }\n",
       "        }\n",
       "      });\n",
       "      // Destroy server and session\n",
       "      var cmd = \"import bokeh.io.notebook as ion; ion.destroy_server('\" + server_id + \"')\";\n",
       "      cell.notebook.kernel.execute(cmd);\n",
       "    }\n",
       "  }\n",
       "\n",
       "  /**\n",
       "   * Handle when a new output is added\n",
       "   */\n",
       "  function handleAddOutput(event, handle) {\n",
       "    var output_area = handle.output_area;\n",
       "    var output = handle.output;\n",
       "\n",
       "    // limit handleAddOutput to display_data with EXEC_MIME_TYPE content only\n",
       "    if ((output.output_type != \"display_data\") || (!output.data.hasOwnProperty(EXEC_MIME_TYPE))) {\n",
       "      return\n",
       "    }\n",
       "\n",
       "    var toinsert = output_area.element.find(\".\" + CLASS_NAME.split(' ')[0]);\n",
       "\n",
       "    if (output.metadata[EXEC_MIME_TYPE][\"id\"] !== undefined) {\n",
       "      toinsert[toinsert.length - 1].firstChild.textContent = output.data[JS_MIME_TYPE];\n",
       "      // store reference to embed id on output_area\n",
       "      output_area._bokeh_element_id = output.metadata[EXEC_MIME_TYPE][\"id\"];\n",
       "    }\n",
       "    if (output.metadata[EXEC_MIME_TYPE][\"server_id\"] !== undefined) {\n",
       "      var bk_div = document.createElement(\"div\");\n",
       "      bk_div.innerHTML = output.data[HTML_MIME_TYPE];\n",
       "      var script_attrs = bk_div.children[0].attributes;\n",
       "      for (var i = 0; i < script_attrs.length; i++) {\n",
       "        toinsert[toinsert.length - 1].firstChild.setAttribute(script_attrs[i].name, script_attrs[i].value);\n",
       "      }\n",
       "      // store reference to server id on output_area\n",
       "      output_area._bokeh_server_id = output.metadata[EXEC_MIME_TYPE][\"server_id\"];\n",
       "    }\n",
       "  }\n",
       "\n",
       "  function register_renderer(events, OutputArea) {\n",
       "\n",
       "    function append_mime(data, metadata, element) {\n",
       "      // create a DOM node to render to\n",
       "      var toinsert = this.create_output_subarea(\n",
       "        metadata,\n",
       "        CLASS_NAME,\n",
       "        EXEC_MIME_TYPE\n",
       "      );\n",
       "      this.keyboard_manager.register_events(toinsert);\n",
       "      // Render to node\n",
       "      var props = {data: data, metadata: metadata[EXEC_MIME_TYPE]};\n",
       "      render(props, toinsert[toinsert.length - 1]);\n",
       "      element.append(toinsert);\n",
       "      return toinsert\n",
       "    }\n",
       "\n",
       "    /* Handle when an output is cleared or removed */\n",
       "    events.on('clear_output.CodeCell', handleClearOutput);\n",
       "    events.on('delete.Cell', handleClearOutput);\n",
       "\n",
       "    /* Handle when a new output is added */\n",
       "    events.on('output_added.OutputArea', handleAddOutput);\n",
       "\n",
       "    /**\n",
       "     * Register the mime type and append_mime function with output_area\n",
       "     */\n",
       "    OutputArea.prototype.register_mime_type(EXEC_MIME_TYPE, append_mime, {\n",
       "      /* Is output safe? */\n",
       "      safe: true,\n",
       "      /* Index of renderer in `output_area.display_order` */\n",
       "      index: 0\n",
       "    });\n",
       "  }\n",
       "\n",
       "  // register the mime type if in Jupyter Notebook environment and previously unregistered\n",
       "  if (root.Jupyter !== undefined) {\n",
       "    var events = require('base/js/events');\n",
       "    var OutputArea = require('notebook/js/outputarea').OutputArea;\n",
       "\n",
       "    if (OutputArea.prototype.mime_types().indexOf(EXEC_MIME_TYPE) == -1) {\n",
       "      register_renderer(events, OutputArea);\n",
       "    }\n",
       "  }\n",
       "\n",
       "  \n",
       "  if (typeof (root._bokeh_timeout) === \"undefined\" || force === true) {\n",
       "    root._bokeh_timeout = Date.now() + 5000;\n",
       "    root._bokeh_failed_load = false;\n",
       "  }\n",
       "\n",
       "  var NB_LOAD_WARNING = {'data': {'text/html':\n",
       "     \"<div style='background-color: #fdd'>\\n\"+\n",
       "     \"<p>\\n\"+\n",
       "     \"BokehJS does not appear to have successfully loaded. If loading BokehJS from CDN, this \\n\"+\n",
       "     \"may be due to a slow or bad network connection. Possible fixes:\\n\"+\n",
       "     \"</p>\\n\"+\n",
       "     \"<ul>\\n\"+\n",
       "     \"<li>re-rerun `output_notebook()` to attempt to load from CDN again, or</li>\\n\"+\n",
       "     \"<li>use INLINE resources instead, as so:</li>\\n\"+\n",
       "     \"</ul>\\n\"+\n",
       "     \"<code>\\n\"+\n",
       "     \"from bokeh.resources import INLINE\\n\"+\n",
       "     \"output_notebook(resources=INLINE)\\n\"+\n",
       "     \"</code>\\n\"+\n",
       "     \"</div>\"}};\n",
       "\n",
       "  function display_loaded() {\n",
       "    var el = document.getElementById(\"1001\");\n",
       "    if (el != null) {\n",
       "      el.textContent = \"BokehJS is loading...\";\n",
       "    }\n",
       "    if (root.Bokeh !== undefined) {\n",
       "      if (el != null) {\n",
       "        el.textContent = \"BokehJS \" + root.Bokeh.version + \" successfully loaded.\";\n",
       "      }\n",
       "    } else if (Date.now() < root._bokeh_timeout) {\n",
       "      setTimeout(display_loaded, 100)\n",
       "    }\n",
       "  }\n",
       "\n",
       "\n",
       "  function run_callbacks() {\n",
       "    try {\n",
       "      root._bokeh_onload_callbacks.forEach(function(callback) {\n",
       "        if (callback != null)\n",
       "          callback();\n",
       "      });\n",
       "    } finally {\n",
       "      delete root._bokeh_onload_callbacks\n",
       "    }\n",
       "    console.debug(\"Bokeh: all callbacks have finished\");\n",
       "  }\n",
       "\n",
       "  function load_libs(css_urls, js_urls, callback) {\n",
       "    if (css_urls == null) css_urls = [];\n",
       "    if (js_urls == null) js_urls = [];\n",
       "\n",
       "    root._bokeh_onload_callbacks.push(callback);\n",
       "    if (root._bokeh_is_loading > 0) {\n",
       "      console.debug(\"Bokeh: BokehJS is being loaded, scheduling callback at\", now());\n",
       "      return null;\n",
       "    }\n",
       "    if (js_urls == null || js_urls.length === 0) {\n",
       "      run_callbacks();\n",
       "      return null;\n",
       "    }\n",
       "    console.debug(\"Bokeh: BokehJS not loaded, scheduling load and callback at\", now());\n",
       "    root._bokeh_is_loading = css_urls.length + js_urls.length;\n",
       "\n",
       "    function on_load() {\n",
       "      root._bokeh_is_loading--;\n",
       "      if (root._bokeh_is_loading === 0) {\n",
       "        console.debug(\"Bokeh: all BokehJS libraries/stylesheets loaded\");\n",
       "        run_callbacks()\n",
       "      }\n",
       "    }\n",
       "\n",
       "    function on_error() {\n",
       "      console.error(\"failed to load \" + url);\n",
       "    }\n",
       "\n",
       "    for (var i = 0; i < css_urls.length; i++) {\n",
       "      var url = css_urls[i];\n",
       "      const element = document.createElement(\"link\");\n",
       "      element.onload = on_load;\n",
       "      element.onerror = on_error;\n",
       "      element.rel = \"stylesheet\";\n",
       "      element.type = \"text/css\";\n",
       "      element.href = url;\n",
       "      console.debug(\"Bokeh: injecting link tag for BokehJS stylesheet: \", url);\n",
       "      document.body.appendChild(element);\n",
       "    }\n",
       "\n",
       "    for (var i = 0; i < js_urls.length; i++) {\n",
       "      var url = js_urls[i];\n",
       "      var element = document.createElement('script');\n",
       "      element.onload = on_load;\n",
       "      element.onerror = on_error;\n",
       "      element.async = false;\n",
       "      element.src = url;\n",
       "      console.debug(\"Bokeh: injecting script tag for BokehJS library: \", url);\n",
       "      document.head.appendChild(element);\n",
       "    }\n",
       "  };var element = document.getElementById(\"1001\");\n",
       "  if (element == null) {\n",
       "    console.error(\"Bokeh: ERROR: autoload.js configured with elementid '1001' but no matching script tag was found. \")\n",
       "    return false;\n",
       "  }\n",
       "\n",
       "  function inject_raw_css(css) {\n",
       "    const element = document.createElement(\"style\");\n",
       "    element.appendChild(document.createTextNode(css));\n",
       "    document.body.appendChild(element);\n",
       "  }\n",
       "\n",
       "  \n",
       "  var js_urls = [\"https://cdn.pydata.org/bokeh/release/bokeh-1.4.0.min.js\", \"https://cdn.pydata.org/bokeh/release/bokeh-widgets-1.4.0.min.js\", \"https://cdn.pydata.org/bokeh/release/bokeh-tables-1.4.0.min.js\", \"https://cdn.pydata.org/bokeh/release/bokeh-gl-1.4.0.min.js\"];\n",
       "  var css_urls = [];\n",
       "  \n",
       "\n",
       "  var inline_js = [\n",
       "    function(Bokeh) {\n",
       "      Bokeh.set_log_level(\"info\");\n",
       "    },\n",
       "    function(Bokeh) {\n",
       "    \n",
       "    \n",
       "    }\n",
       "  ];\n",
       "\n",
       "  function run_inline_js() {\n",
       "    \n",
       "    if (root.Bokeh !== undefined || force === true) {\n",
       "      \n",
       "    for (var i = 0; i < inline_js.length; i++) {\n",
       "      inline_js[i].call(root, root.Bokeh);\n",
       "    }\n",
       "    if (force === true) {\n",
       "        display_loaded();\n",
       "      }} else if (Date.now() < root._bokeh_timeout) {\n",
       "      setTimeout(run_inline_js, 100);\n",
       "    } else if (!root._bokeh_failed_load) {\n",
       "      console.log(\"Bokeh: BokehJS failed to load within specified timeout.\");\n",
       "      root._bokeh_failed_load = true;\n",
       "    } else if (force !== true) {\n",
       "      var cell = $(document.getElementById(\"1001\")).parents('.cell').data().cell;\n",
       "      cell.output_area.append_execute_result(NB_LOAD_WARNING)\n",
       "    }\n",
       "\n",
       "  }\n",
       "\n",
       "  if (root._bokeh_is_loading === 0) {\n",
       "    console.debug(\"Bokeh: BokehJS loaded, going straight to plotting\");\n",
       "    run_inline_js();\n",
       "  } else {\n",
       "    load_libs(css_urls, js_urls, function() {\n",
       "      console.debug(\"Bokeh: BokehJS plotting callback run at\", now());\n",
       "      run_inline_js();\n",
       "    });\n",
       "  }\n",
       "}(window));"
      ],
      "application/vnd.bokehjs_load.v0+json": "\n(function(root) {\n  function now() {\n    return new Date();\n  }\n\n  var force = true;\n\n  if (typeof root._bokeh_onload_callbacks === \"undefined\" || force === true) {\n    root._bokeh_onload_callbacks = [];\n    root._bokeh_is_loading = undefined;\n  }\n\n  \n\n  \n  if (typeof (root._bokeh_timeout) === \"undefined\" || force === true) {\n    root._bokeh_timeout = Date.now() + 5000;\n    root._bokeh_failed_load = false;\n  }\n\n  var NB_LOAD_WARNING = {'data': {'text/html':\n     \"<div style='background-color: #fdd'>\\n\"+\n     \"<p>\\n\"+\n     \"BokehJS does not appear to have successfully loaded. If loading BokehJS from CDN, this \\n\"+\n     \"may be due to a slow or bad network connection. Possible fixes:\\n\"+\n     \"</p>\\n\"+\n     \"<ul>\\n\"+\n     \"<li>re-rerun `output_notebook()` to attempt to load from CDN again, or</li>\\n\"+\n     \"<li>use INLINE resources instead, as so:</li>\\n\"+\n     \"</ul>\\n\"+\n     \"<code>\\n\"+\n     \"from bokeh.resources import INLINE\\n\"+\n     \"output_notebook(resources=INLINE)\\n\"+\n     \"</code>\\n\"+\n     \"</div>\"}};\n\n  function display_loaded() {\n    var el = document.getElementById(\"1001\");\n    if (el != null) {\n      el.textContent = \"BokehJS is loading...\";\n    }\n    if (root.Bokeh !== undefined) {\n      if (el != null) {\n        el.textContent = \"BokehJS \" + root.Bokeh.version + \" successfully loaded.\";\n      }\n    } else if (Date.now() < root._bokeh_timeout) {\n      setTimeout(display_loaded, 100)\n    }\n  }\n\n\n  function run_callbacks() {\n    try {\n      root._bokeh_onload_callbacks.forEach(function(callback) {\n        if (callback != null)\n          callback();\n      });\n    } finally {\n      delete root._bokeh_onload_callbacks\n    }\n    console.debug(\"Bokeh: all callbacks have finished\");\n  }\n\n  function load_libs(css_urls, js_urls, callback) {\n    if (css_urls == null) css_urls = [];\n    if (js_urls == null) js_urls = [];\n\n    root._bokeh_onload_callbacks.push(callback);\n    if (root._bokeh_is_loading > 0) {\n      console.debug(\"Bokeh: BokehJS is being loaded, scheduling callback at\", now());\n      return null;\n    }\n    if (js_urls == null || js_urls.length === 0) {\n      run_callbacks();\n      return null;\n    }\n    console.debug(\"Bokeh: BokehJS not loaded, scheduling load and callback at\", now());\n    root._bokeh_is_loading = css_urls.length + js_urls.length;\n\n    function on_load() {\n      root._bokeh_is_loading--;\n      if (root._bokeh_is_loading === 0) {\n        console.debug(\"Bokeh: all BokehJS libraries/stylesheets loaded\");\n        run_callbacks()\n      }\n    }\n\n    function on_error() {\n      console.error(\"failed to load \" + url);\n    }\n\n    for (var i = 0; i < css_urls.length; i++) {\n      var url = css_urls[i];\n      const element = document.createElement(\"link\");\n      element.onload = on_load;\n      element.onerror = on_error;\n      element.rel = \"stylesheet\";\n      element.type = \"text/css\";\n      element.href = url;\n      console.debug(\"Bokeh: injecting link tag for BokehJS stylesheet: \", url);\n      document.body.appendChild(element);\n    }\n\n    for (var i = 0; i < js_urls.length; i++) {\n      var url = js_urls[i];\n      var element = document.createElement('script');\n      element.onload = on_load;\n      element.onerror = on_error;\n      element.async = false;\n      element.src = url;\n      console.debug(\"Bokeh: injecting script tag for BokehJS library: \", url);\n      document.head.appendChild(element);\n    }\n  };var element = document.getElementById(\"1001\");\n  if (element == null) {\n    console.error(\"Bokeh: ERROR: autoload.js configured with elementid '1001' but no matching script tag was found. \")\n    return false;\n  }\n\n  function inject_raw_css(css) {\n    const element = document.createElement(\"style\");\n    element.appendChild(document.createTextNode(css));\n    document.body.appendChild(element);\n  }\n\n  \n  var js_urls = [\"https://cdn.pydata.org/bokeh/release/bokeh-1.4.0.min.js\", \"https://cdn.pydata.org/bokeh/release/bokeh-widgets-1.4.0.min.js\", \"https://cdn.pydata.org/bokeh/release/bokeh-tables-1.4.0.min.js\", \"https://cdn.pydata.org/bokeh/release/bokeh-gl-1.4.0.min.js\"];\n  var css_urls = [];\n  \n\n  var inline_js = [\n    function(Bokeh) {\n      Bokeh.set_log_level(\"info\");\n    },\n    function(Bokeh) {\n    \n    \n    }\n  ];\n\n  function run_inline_js() {\n    \n    if (root.Bokeh !== undefined || force === true) {\n      \n    for (var i = 0; i < inline_js.length; i++) {\n      inline_js[i].call(root, root.Bokeh);\n    }\n    if (force === true) {\n        display_loaded();\n      }} else if (Date.now() < root._bokeh_timeout) {\n      setTimeout(run_inline_js, 100);\n    } else if (!root._bokeh_failed_load) {\n      console.log(\"Bokeh: BokehJS failed to load within specified timeout.\");\n      root._bokeh_failed_load = true;\n    } else if (force !== true) {\n      var cell = $(document.getElementById(\"1001\")).parents('.cell').data().cell;\n      cell.output_area.append_execute_result(NB_LOAD_WARNING)\n    }\n\n  }\n\n  if (root._bokeh_is_loading === 0) {\n    console.debug(\"Bokeh: BokehJS loaded, going straight to plotting\");\n    run_inline_js();\n  } else {\n    load_libs(css_urls, js_urls, function() {\n      console.debug(\"Bokeh: BokehJS plotting callback run at\", now());\n      run_inline_js();\n    });\n  }\n}(window));"
     },
     "metadata": {},
     "output_type": "display_data"
    }
   ],
   "source": [
    "import TraceDisplay as TD\n",
    "from TraceDisplay import BOKEH_RENDERER\n",
    "import os\n",
    "from IPython.core.display import display, HTML"
   ]
  },
  {
   "cell_type": "code",
   "execution_count": 2,
   "metadata": {},
   "outputs": [
    {
     "data": {
      "text/plain": [
       "'../trace/HOST=ryzen/BENCH=hackbench/CMDLINE=default/GOVERNOR=schedutil/MONITORING=trace-cmd/400-5.4-schedlog-ftraced/1.tar'"
      ]
     },
     "execution_count": 2,
     "metadata": {},
     "output_type": "execute_result"
    }
   ],
   "source": [
    "# Chose a .tar\n",
    "path_to_tar = ! find ../trace -name *.tar | grep MONITORING=trace-cmd | head -n 1\n",
    "path_to_tar = path_to_tar[0]\n",
    "path_to_tar"
   ]
  },
  {
   "cell_type": "code",
   "execution_count": 3,
   "metadata": {},
   "outputs": [
    {
     "data": {
      "text/plain": [
       "['/sched_wake_idle_without_ipi',\n",
       " '/sched_wakeup_new',\n",
       " '/sched_waking',\n",
       " '/sched_process_wait',\n",
       " '/sched_process_exec',\n",
       " '/sched_wakeup',\n",
       " '/sched_rq_size_change',\n",
       " '/sched_process_free',\n",
       " '/sched_switch',\n",
       " '/sched_process_fork',\n",
       " '/sched_tick',\n",
       " '/sched_migrate_task',\n",
       " '/sched_process_exit',\n",
       " '/sched_stat_runtime']"
      ]
     },
     "execution_count": 3,
     "metadata": {},
     "output_type": "execute_result"
    }
   ],
   "source": [
    "# Get its .h5\n",
    "path_to_h5 = os.path.splitext(path_to_tar[len('../trace/'):])[0] + '.h5'\n",
    "path_to_dat = os.path.splitext(path_to_h5)[0] + '.dat'\n",
    "trace = TD.Trace()\n",
    "if os.path.exists(path_to_h5):\n",
    "    trace.load(path_to_h5)\n",
    "else:\n",
    "    # Extract .dat and convert to .h5\n",
    "    ! mkdir -p $(! dirname $path_to_dat)\n",
    "    path_trace_dat_tgz = ! tar tf $path_to_tar | grep trace.dat.tgz | head -n 1\n",
    "    path_trace_dat_tgz=path_trace_dat_tgz[0]\n",
    "    path_trace_dat = ! tar -O -xf $path_to_tar $path_trace_dat_tgz | tar ztf - | grep trace.dat | head -n 1\n",
    "    path_trace_dat = path_trace_dat[0]\n",
    "    ! tar -O -xf $path_to_tar $path_trace_dat_tgz | tar -O -xzf - $path_trace_dat > $path_to_dat\n",
    "    trace.load(path_to_dat)\n",
    "    trace.save(path_to_h5)\n",
    "    os.remove(path_to_dat)\n",
    "trace.keys()"
   ]
  },
  {
   "cell_type": "code",
   "execution_count": 4,
   "metadata": {},
   "outputs": [],
   "source": [
    "sched_rq_size_interval = TD.Shapes_from('TraceDisplay/shape/line/sched_rq_size_interval.py')\n",
    "sched_rq_size_change   = TD.Shapes_from('TraceDisplay/shape/line/sched_rq_size_change.py')\n",
    "shapes = sched_rq_size_interval + sched_rq_size_change"
   ]
  },
  {
   "cell_type": "code",
   "execution_count": 5,
   "metadata": {},
   "outputs": [
    {
     "data": {
      "text/html": [
       "<ul style=\"list-style: none;padding-left: 0;\"><li><span style=\"color: #660066;\">0 sched_rq_size_change</span></li><li><span style=\"color: #006633;\">1 sched_rq_size_interval</span></li></ul>"
      ],
      "text/plain": [
       "<IPython.core.display.HTML object>"
      ]
     },
     "execution_count": 5,
     "metadata": {},
     "output_type": "execute_result"
    }
   ],
   "source": [
    "image = TD.Image()\n",
    "image.build(trace, shapes)\n",
    "ci = TD.ColoredImage(image)\n",
    "HTML(ci.html_legend())"
   ]
  },
  {
   "cell_type": "code",
   "execution_count": 6,
   "metadata": {},
   "outputs": [
    {
     "data": {
      "text/html": [
       "<ul style=\"list-style: none;padding-left: 0;\"><li><span style=\"color: #660066;\">0 sched_rq_size_change</span></li><li><span style=\"color: #006633;\">1 sched_rq_size_interval == 0</span></li><li><span style=\"color: #FFCC00;\">2 sched_rq_size_interval > 0</span></li></ul>"
      ],
      "text/plain": [
       "<IPython.core.display.HTML object>"
      ]
     },
     "execution_count": 6,
     "metadata": {},
     "output_type": "execute_result"
    }
   ],
   "source": [
    "# Change color[1] and addColor\n",
    "ci.color_map[1].label = 'sched_rq_size_interval == 0'\n",
    "ci.color_map[1].query = {'sched_rq_size_interval':'rq_size==0'}\n",
    "ci.addColor(label='sched_rq_size_interval > 0', query={'sched_rq_size_interval':'rq_size>0'})\n",
    "ci.applyColor()\n",
    "HTML(ci.html_legend())"
   ]
  },
  {
   "cell_type": "code",
   "execution_count": 7,
   "metadata": {},
   "outputs": [
    {
     "data": {
      "text/html": [
       "\n",
       "\n",
       "\n",
       "\n",
       "\n",
       "\n",
       "  <div class=\"bk-root\" id=\"ad630719-1e51-4acb-8b2d-59b80a006a94\" data-root-id=\"1002\"></div>\n"
      ]
     },
     "metadata": {},
     "output_type": "display_data"
    },
    {
     "data": {
      "application/javascript": [
       "(function(root) {\n",
       "  function embed_document(root) {\n",
       "    \n",
       "  var docs_json = {\"a8427792-bd05-4908-b6d6-18da561722a8\":{\"roots\":{\"references\":[{\"attributes\":{},\"id\":\"1045\",\"type\":\"BasicTickFormatter\"},{\"attributes\":{\"bottom_units\":\"screen\",\"fill_alpha\":{\"value\":0.5},\"fill_color\":{\"value\":\"lightgrey\"},\"left_units\":\"screen\",\"level\":\"overlay\",\"line_alpha\":{\"value\":1.0},\"line_color\":{\"value\":\"black\"},\"line_dash\":[4,4],\"line_width\":{\"value\":2},\"render_mode\":\"css\",\"right_units\":\"screen\",\"top_units\":\"screen\"},\"id\":\"1050\",\"type\":\"BoxAnnotation\"},{\"attributes\":{\"dh\":{\"field\":\"dh\",\"units\":\"data\"},\"dw\":{\"field\":\"dw\",\"units\":\"data\"},\"image\":{\"field\":\"image\"},\"x\":{\"field\":\"x\"},\"y\":{\"field\":\"y\"}},\"id\":\"1038\",\"type\":\"ImageRGBA\"},{\"attributes\":{\"dh\":{\"field\":\"dh\",\"units\":\"data\"},\"dw\":{\"field\":\"dw\",\"units\":\"data\"},\"image\":{\"field\":\"image\"},\"x\":{\"field\":\"x\"},\"y\":{\"field\":\"y\"}},\"id\":\"1039\",\"type\":\"ImageRGBA\"},{\"attributes\":{\"ticker\":{\"id\":\"1012\",\"type\":\"BasicTicker\"}},\"id\":\"1015\",\"type\":\"Grid\"},{\"attributes\":{\"formatter\":{\"id\":\"1047\",\"type\":\"BasicTickFormatter\"},\"ticker\":{\"id\":\"1017\",\"type\":\"BasicTicker\"}},\"id\":\"1016\",\"type\":\"LinearAxis\"},{\"attributes\":{},\"id\":\"1017\",\"type\":\"BasicTicker\"},{\"attributes\":{\"callback\":null,\"data\":{\"dh\":[],\"dw\":[],\"image\":[],\"x\":[],\"y\":[]},\"selected\":{\"id\":\"1048\",\"type\":\"Selection\"},\"selection_policy\":{\"id\":\"1049\",\"type\":\"UnionRenderers\"}},\"id\":\"1036\",\"type\":\"ColumnDataSource\"},{\"attributes\":{\"formatter\":{\"id\":\"1045\",\"type\":\"BasicTickFormatter\"},\"ticker\":{\"id\":\"1012\",\"type\":\"BasicTicker\"}},\"id\":\"1011\",\"type\":\"LinearAxis\"},{\"attributes\":{\"code\":\"\\nvar brid = \\\"'0'\\\";\\nvar ax   = \\\"'x'\\\";\\nvar notebook = Jupyter.notebook;\\nvar start = cb_obj.start;\\nvar end = cb_obj.end;\\n\\nnotebook.kernel.execute(\\\"BOKEH_RENDERER[\\\"+brid+\\\"].figure_range(ax=\\\"+ax+\\\",start=\\\"+start+\\\",end=\\\"+end+\\\")\\\");\\n\"},\"id\":\"1034\",\"type\":\"CustomJS\"},{\"attributes\":{\"code\":\"\\nvar brid = \\\"'0'\\\";\\nvar ax   = \\\"'y'\\\";\\nvar notebook = Jupyter.notebook;\\nvar start = cb_obj.start;\\nvar end = cb_obj.end;\\n\\nnotebook.kernel.execute(\\\"BOKEH_RENDERER[\\\"+brid+\\\"].figure_range(ax=\\\"+ax+\\\",start=\\\"+start+\\\",end=\\\"+end+\\\")\\\");\\n\"},\"id\":\"1035\",\"type\":\"CustomJS\"},{\"attributes\":{},\"id\":\"1025\",\"type\":\"ResetTool\"},{\"attributes\":{\"source\":{\"id\":\"1036\",\"type\":\"ColumnDataSource\"}},\"id\":\"1041\",\"type\":\"CDSView\"},{\"attributes\":{\"data_source\":{\"id\":\"1036\",\"type\":\"ColumnDataSource\"},\"glyph\":{\"id\":\"1038\",\"type\":\"ImageRGBA\"},\"hover_glyph\":null,\"muted_glyph\":null,\"nonselection_glyph\":{\"id\":\"1039\",\"type\":\"ImageRGBA\"},\"selection_glyph\":null,\"view\":{\"id\":\"1041\",\"type\":\"CDSView\"}},\"id\":\"1040\",\"type\":\"GlyphRenderer\"},{\"attributes\":{},\"id\":\"1047\",\"type\":\"BasicTickFormatter\"},{\"attributes\":{\"text\":\"\"},\"id\":\"1043\",\"type\":\"Title\"},{\"attributes\":{},\"id\":\"1024\",\"type\":\"SaveTool\"},{\"attributes\":{\"active_drag\":\"auto\",\"active_inspect\":\"auto\",\"active_multi\":null,\"active_scroll\":\"auto\",\"active_tap\":\"auto\",\"tools\":[{\"id\":\"1021\",\"type\":\"PanTool\"},{\"id\":\"1022\",\"type\":\"WheelZoomTool\"},{\"id\":\"1023\",\"type\":\"BoxZoomTool\"},{\"id\":\"1024\",\"type\":\"SaveTool\"},{\"id\":\"1025\",\"type\":\"ResetTool\"},{\"id\":\"1026\",\"type\":\"HelpTool\"}]},\"id\":\"1027\",\"type\":\"Toolbar\"},{\"attributes\":{},\"id\":\"1026\",\"type\":\"HelpTool\"},{\"attributes\":{},\"id\":\"1021\",\"type\":\"PanTool\"},{\"attributes\":{\"dimension\":1,\"ticker\":{\"id\":\"1017\",\"type\":\"BasicTicker\"}},\"id\":\"1020\",\"type\":\"Grid\"},{\"attributes\":{\"overlay\":{\"id\":\"1050\",\"type\":\"BoxAnnotation\"}},\"id\":\"1023\",\"type\":\"BoxZoomTool\"},{\"attributes\":{},\"id\":\"1022\",\"type\":\"WheelZoomTool\"},{\"attributes\":{},\"id\":\"1049\",\"type\":\"UnionRenderers\"},{\"attributes\":{},\"id\":\"1048\",\"type\":\"Selection\"},{\"attributes\":{},\"id\":\"1012\",\"type\":\"BasicTicker\"},{\"attributes\":{},\"id\":\"1009\",\"type\":\"LinearScale\"},{\"attributes\":{},\"id\":\"1007\",\"type\":\"LinearScale\"},{\"attributes\":{\"callback\":{\"id\":\"1035\",\"type\":\"CustomJS\"}},\"id\":\"1005\",\"type\":\"Range1d\"},{\"attributes\":{\"callback\":{\"id\":\"1034\",\"type\":\"CustomJS\"}},\"id\":\"1003\",\"type\":\"Range1d\"},{\"attributes\":{\"below\":[{\"id\":\"1011\",\"type\":\"LinearAxis\"}],\"center\":[{\"id\":\"1015\",\"type\":\"Grid\"},{\"id\":\"1020\",\"type\":\"Grid\"}],\"left\":[{\"id\":\"1016\",\"type\":\"LinearAxis\"}],\"renderers\":[{\"id\":\"1040\",\"type\":\"GlyphRenderer\"}],\"sizing_mode\":\"stretch_both\",\"title\":{\"id\":\"1043\",\"type\":\"Title\"},\"toolbar\":{\"id\":\"1027\",\"type\":\"Toolbar\"},\"x_range\":{\"id\":\"1003\",\"type\":\"Range1d\"},\"x_scale\":{\"id\":\"1007\",\"type\":\"LinearScale\"},\"y_range\":{\"id\":\"1005\",\"type\":\"Range1d\"},\"y_scale\":{\"id\":\"1009\",\"type\":\"LinearScale\"}},\"id\":\"1002\",\"subtype\":\"Figure\",\"type\":\"Plot\"}],\"root_ids\":[\"1002\"]},\"title\":\"Bokeh Application\",\"version\":\"1.4.0\"}};\n",
       "  var render_items = [{\"docid\":\"a8427792-bd05-4908-b6d6-18da561722a8\",\"notebook_comms_target\":\"1051\",\"roots\":{\"1002\":\"ad630719-1e51-4acb-8b2d-59b80a006a94\"}}];\n",
       "  root.Bokeh.embed.embed_items_notebook(docs_json, render_items);\n",
       "\n",
       "  }\n",
       "  if (root.Bokeh !== undefined) {\n",
       "    embed_document(root);\n",
       "  } else {\n",
       "    var attempts = 0;\n",
       "    var timer = setInterval(function(root) {\n",
       "      if (root.Bokeh !== undefined) {\n",
       "        clearInterval(timer);\n",
       "        embed_document(root);\n",
       "      } else {\n",
       "        attempts++;\n",
       "        if (attempts > 100) {\n",
       "          clearInterval(timer);\n",
       "          console.log(\"Bokeh: ERROR: Unable to run BokehJS code because BokehJS library is missing\");\n",
       "        }\n",
       "      }\n",
       "    }, 10, root)\n",
       "  }\n",
       "})(window);"
      ],
      "application/vnd.bokehjs_exec.v0+json": ""
     },
     "metadata": {
      "application/vnd.bokehjs_exec.v0+json": {
       "id": "1002"
      }
     },
     "output_type": "display_data"
    },
    {
     "data": {
      "application/vnd.jupyter.widget-view+json": {
       "model_id": "aec46d7b419e488193a2af4ba5e040c2",
       "version_major": 2,
       "version_minor": 0
      },
      "text/plain": [
       "aW50ZXJhY3RpdmUoY2hpbGRyZW49KEJ1dHRvbihkZXNjcmlwdGlvbj11J1J1biBJbnRlcmFjdCcsIHN0eWxlPUJ1dHRvblN0eWxlKCkpLCBPdXRwdXQoKSksIF9kb21fY2xhc3Nlcz0odSd3aWTigKY=\n"
      ]
     },
     "metadata": {},
     "output_type": "display_data"
    }
   ],
   "source": [
    "br = TD.BokehRenderer()\n",
    "br.show()"
   ]
  },
  {
   "cell_type": "code",
   "execution_count": 8,
   "metadata": {},
   "outputs": [
    {
     "name": "stdout",
     "output_type": "stream",
     "text": [
      "(60943014894.0, 61264570877.0)\n",
      "(0, 7.5)\n"
     ]
    },
    {
     "data": {
      "image/png": "[encoded data removed]",
      "text/html": [
       "<img style=\"margin: auto; border:1px solid\" src='data:image/png;base64,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'/>"
      ],
      "text/plain": [
       "<xarray.Image (y: 600, x: 600)>\n",
       "array([[4283183923, 4281558528, 4282208603, ..., 4281558528, 4281558528,\n",
       "        4282338924],\n",
       "       [4284874854,   16777215, 4284874854, ...,   16777215,   16777215,\n",
       "        4284874854],\n",
       "       [4284874854,   16777215, 4284874854, ...,   16777215,   16777215,\n",
       "        4284874854],\n",
       "       ...,\n",
       "       [  16777215,   16777215,   16777215, ..., 4284874854, 4284874854,\n",
       "        4284874854],\n",
       "       [  16777215,   16777215,   16777215, ..., 4284874854, 4284874854,\n",
       "        4284874854],\n",
       "       [  16777215,   16777215,   16777215, ..., 4284874854, 4284874854,\n",
       "        4284874854]], dtype=uint32)\n",
       "Coordinates:\n",
       "  * x        (x) float64 6.094e+10 6.094e+10 6.094e+10 ... 6.126e+10 6.126e+10\n",
       "  * y        (y) float64 0.00625 0.01875 0.03125 0.04375 ... 7.469 7.481 7.494"
      ]
     },
     "metadata": {},
     "output_type": "display_data"
    }
   ],
   "source": [
    "br.render(ci)\n",
    "display(br.image)"
   ]
  },
  {
   "cell_type": "code",
   "execution_count": null,
   "metadata": {},
   "outputs": [],
   "source": []
  }
 ],
 "metadata": {
  "kernelspec": {
   "display_name": "Python 2",
   "language": "python",
   "name": "python2"
  },
  "language_info": {
   "codemirror_mode": {
    "name": "ipython",
    "version": 2
   },
   "file_extension": ".py",
   "mimetype": "text/x-python",
   "name": "python",
   "nbconvert_exporter": "python",
   "pygments_lexer": "ipython2",
   "version": "2.7.17"
  }
 },
 "nbformat": 4,
 "nbformat_minor": 2
}
