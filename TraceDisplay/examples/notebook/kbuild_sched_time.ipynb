{
 "cells": [
  {
   "cell_type": "code",
   "execution_count": 1,
   "metadata": {},
   "outputs": [],
   "source": [
    "import os, tarfile"
   ]
  },
  {
   "cell_type": "code",
   "execution_count": 2,
   "metadata": {},
   "outputs": [],
   "source": [
    "path_to_tar = {\n",
    "    'move'  : '../trace/HOST=ryzen/BENCH=kbuild-sched/CMDLINE=default/GOVERNOR=schedutil/MONITORING=nop/16-5.4-move/1.tar',\n",
    "    'local' : '../trace/HOST=ryzen/BENCH=kbuild-sched/CMDLINE=default/GOVERNOR=schedutil/MONITORING=nop/16-5.4-local/1.tar',\n",
    "    'linux' : '../trace/HOST=ryzen/BENCH=kbuild-sched/CMDLINE=default/GOVERNOR=schedutil/MONITORING=nop/16-5.4-schedlog-ftraced/1.tar',\n",
    "}\n"
   ]
  },
  {
   "cell_type": "code",
   "execution_count": 3,
   "metadata": {},
   "outputs": [],
   "source": [
    "def time(path):\n",
    "    with tarfile.open(path) as tar:\n",
    "        for tarinfo in tar:\n",
    "            if os.path.basename(tarinfo.name) == 'time.err':\n",
    "                f = tar.extractfile(tarinfo.name)\n",
    "                return f.read().decode().split('\\n')[-2]\n"
   ]
  },
  {
   "cell_type": "code",
   "execution_count": 4,
   "metadata": {},
   "outputs": [
    {
     "name": "stdout",
     "output_type": "stream",
     "text": [
      "('move', u'7.09')\n",
      "('local', u'6.49')\n",
      "('linux', u'7.68')\n"
     ]
    }
   ],
   "source": [
    "for k,v in path_to_tar.items():\n",
    "    print(k, time(v))"
   ]
  },
  {
   "cell_type": "code",
   "execution_count": null,
   "metadata": {},
   "outputs": [],
   "source": []
  }
 ],
 "metadata": {
  "kernelspec": {
   "display_name": "Python 2",
   "language": "python",
   "name": "python2"
  },
  "language_info": {
   "codemirror_mode": {
    "name": "ipython",
    "version": 2
   },
   "file_extension": ".py",
   "mimetype": "text/x-python",
   "name": "python",
   "nbconvert_exporter": "python",
   "pygments_lexer": "ipython2",
   "version": "2.7.17"
  }
 },
 "nbformat": 4,
 "nbformat_minor": 2
}
